{
 "cells": [
  {
   "cell_type": "markdown",
   "id": "dad4019f",
   "metadata": {},
   "source": [
    "# Question 1\n",
    "\n",
    "Write a Python program to convert an array to an ordinary list with the same items.\n",
    "\n",
    "we can use the np.tolist() function"
   ]
  },
  {
   "cell_type": "code",
   "execution_count": 26,
   "id": "daca09a1",
   "metadata": {},
   "outputs": [
    {
     "data": {
      "text/plain": [
       "list"
      ]
     },
     "execution_count": 26,
     "metadata": {},
     "output_type": "execute_result"
    }
   ],
   "source": [
    "import numpy as np\n",
    "my_array= np.array([1,2,3])\n",
    "my_array\n",
    "my_list= my_array.tolist()\n",
    "type(my_list)"
   ]
  },
  {
   "cell_type": "markdown",
   "id": "e52a6b72",
   "metadata": {},
   "source": [
    "# Question 2 \n",
    "\n",
    "Write a NumPy program to compute the sum of the diagonal elements of a given array.\n",
    "\n",
    "Hint: Two methods to solve this problem: 1. manually(without direct function). 2. using the trace function"
   ]
  },
  {
   "cell_type": "code",
   "execution_count": 21,
   "id": "7f2b82d5",
   "metadata": {},
   "outputs": [
    {
     "data": {
      "text/plain": [
       "11"
      ]
     },
     "execution_count": 21,
     "metadata": {},
     "output_type": "execute_result"
    }
   ],
   "source": [
    "tab= np.array([[1,2,3,4,5],[1,2,3,4,5],[1,2,3,4,5],[1,2,3,5,5]])\n",
    "s= tab.trace()\n",
    "s"
   ]
  },
  {
   "cell_type": "code",
   "execution_count": 41,
   "id": "91f31824",
   "metadata": {},
   "outputs": [
    {
     "data": {
      "text/plain": [
       "11"
      ]
     },
     "execution_count": 41,
     "metadata": {},
     "output_type": "execute_result"
    }
   ],
   "source": [
    "tab= np.array([[1,2,3,4,5],[1,2,3,4,5],[1,2,3,4,5],[1,2,3,5,5]])\n",
    "d = tab.diagonal()\n",
    "s=0\n",
    "for i in range(len(tab)):\n",
    "    s=s+d[i]\n",
    "s"
   ]
  },
  {
   "cell_type": "markdown",
   "id": "77fbd98d",
   "metadata": {},
   "source": [
    "# Question 3\n",
    "\n",
    "Given an array of your choice, get all the values higher than X :\n",
    "\n",
    "if a = [[1,2],[3,5]] and x = 2 :  then 3 and 5 are higher than 2. "
   ]
  },
  {
   "cell_type": "code",
   "execution_count": 35,
   "id": "013ba8c1",
   "metadata": {},
   "outputs": [
    {
     "name": "stdout",
     "output_type": "stream",
     "text": [
      "6 is higher than 2\n",
      "3 is higher than 2\n",
      "5 is higher than 2\n",
      "7 is higher than 2\n"
     ]
    }
   ],
   "source": [
    "a= np.array([[1,2,6],[3,5,7]])\n",
    "x=2\n",
    "for i in range(a.shape[0]):\n",
    "    for j in range(a.shape[1]):\n",
    "        if a[i][j] > x:\n",
    "            print(a[i][j] ,\"is higher than\", x)"
   ]
  },
  {
   "cell_type": "markdown",
   "id": "7306989f",
   "metadata": {},
   "source": [
    "# Question 4\n",
    "\n",
    "Given two arrays, A & B have the same shape. \n",
    "\n",
    "The task is to apply addition by hand: C is the new array. "
   ]
  },
  {
   "cell_type": "code",
   "execution_count": 36,
   "id": "555f707d",
   "metadata": {},
   "outputs": [
    {
     "data": {
      "text/plain": [
       "array([[21, 22, 66],\n",
       "       [33, 56, 82]])"
      ]
     },
     "execution_count": 36,
     "metadata": {},
     "output_type": "execute_result"
    }
   ],
   "source": [
    "A= np.array([[1,2,6],[3,5,7]])\n",
    "B= np.array([[20,20,60],[30,51,75]])\n",
    "C= A + B\n",
    "C"
   ]
  },
  {
   "cell_type": "markdown",
   "id": "e3edb3b3",
   "metadata": {},
   "source": [
    "# Question 5\n",
    "\n",
    "Write a NumPy program to subtract the mean of each row of a given matrix.\n",
    "\n",
    "Hint: use the mean function"
   ]
  },
  {
   "cell_type": "code",
   "execution_count": 43,
   "id": "8bf085e2",
   "metadata": {},
   "outputs": [
    {
     "data": {
      "text/plain": [
       "array([3., 5.])"
      ]
     },
     "execution_count": 43,
     "metadata": {},
     "output_type": "execute_result"
    }
   ],
   "source": [
    "a= np.array([[1,2,6],[3,5,7]])\n",
    "m=np.mean(a,1)\n",
    "m    "
   ]
  }
 ],
 "metadata": {
  "kernelspec": {
   "display_name": "Python 3 (ipykernel)",
   "language": "python",
   "name": "python3"
  },
  "language_info": {
   "codemirror_mode": {
    "name": "ipython",
    "version": 3
   },
   "file_extension": ".py",
   "mimetype": "text/x-python",
   "name": "python",
   "nbconvert_exporter": "python",
   "pygments_lexer": "ipython3",
   "version": "3.9.7"
  }
 },
 "nbformat": 4,
 "nbformat_minor": 5
}
